{
  "nbformat": 4,
  "nbformat_minor": 0,
  "metadata": {
    "colab": {
      "provenance": [],
      "collapsed_sections": [
        "YpKmrweOFn2u"
      ],
      "authorship_tag": "ABX9TyPL+f4AWrdMnbFP7znsEHWv",
      "include_colab_link": true
    },
    "kernelspec": {
      "name": "python3",
      "display_name": "Python 3"
    },
    "language_info": {
      "name": "python"
    }
  },
  "cells": [
    {
      "cell_type": "markdown",
      "metadata": {
        "id": "view-in-github",
        "colab_type": "text"
      },
      "source": [
        "<a href=\"https://colab.research.google.com/github/urapua/hello-world/blob/main/Exercices.ipynb\" target=\"_parent\"><img src=\"https://colab.research.google.com/assets/colab-badge.svg\" alt=\"Open In Colab\"/></a>"
      ]
    },
    {
      "cell_type": "markdown",
      "source": [
        "##Exercise 0"
      ],
      "metadata": {
        "id": "YpKmrweOFn2u"
      }
    },
    {
      "cell_type": "code",
      "execution_count": 3,
      "metadata": {
        "colab": {
          "base_uri": "https://localhost:8080/"
        },
        "id": "f9lsn1LSFfLO",
        "outputId": "804cea0d-08c0-4b19-f6f7-5c364a36d6d5"
      },
      "outputs": [
        {
          "output_type": "stream",
          "name": "stdout",
          "text": [
            "Python version\n",
            "3.9.16\n"
          ]
        }
      ],
      "source": [
        "#print the Python Version to the console\n",
        "import sys\n",
        "\n",
        "print(\"Python version\")\n",
        "print(sys.version.split()[0])"
      ]
    },
    {
      "cell_type": "markdown",
      "source": [
        "## Exercise 1"
      ],
      "metadata": {
        "id": "J434q907HR4T"
      }
    },
    {
      "cell_type": "code",
      "source": [
        "\"\"\"\n",
        "All natural numbers divisible by 5 or 7 less than 20 are: [0, 5, 7, 10, 14, 15]. \n",
        "The sum of these numbers is: 51. In this exercise, we treat zero as a natural number.\n",
        "\n",
        "Find the sum of all numbers that are divisible by 5 or 7 less than 100.\n",
        "\n",
        "Present the solution in the form of a function called calculate(). In response, call calculate() function and print the result to the console.\n",
        "\"\"\"\n",
        "\n",
        "def calculate():\n",
        "  sum = 0\n",
        "  i = 0\n",
        "  while i < 100:\n",
        "    if(i%5==0) or (i%7==0):\n",
        "      sum = sum + i\n",
        "      i = i +1\n",
        "    else:\n",
        "      i = i +1\n",
        "  print(sum) \n",
        "\n",
        "\n",
        "calculate()"
      ],
      "metadata": {
        "colab": {
          "base_uri": "https://localhost:8080/"
        },
        "outputId": "d441413d-dddf-4e57-cee1-b558a9bb4189",
        "id": "Y4cfbRU-NPK8"
      },
      "execution_count": 30,
      "outputs": [
        {
          "output_type": "stream",
          "name": "stdout",
          "text": [
            "1580\n"
          ]
        }
      ]
    }
  ]
}